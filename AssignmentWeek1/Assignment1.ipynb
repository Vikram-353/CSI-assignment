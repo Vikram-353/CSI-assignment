{
 "cells": [
  {
   "cell_type": "markdown",
   "id": "52dbd84a",
   "metadata": {},
   "source": [
    "# Create lower triangular, upper triangular and pyramid containing the \"*\" character."
   ]
  },
  {
   "cell_type": "markdown",
   "id": "9e7cac82",
   "metadata": {},
   "source": [
    "# Lower Triangular Pyramid"
   ]
  },
  {
   "cell_type": "code",
   "execution_count": 1,
   "id": "741f3699",
   "metadata": {},
   "outputs": [
    {
     "name": "stdout",
     "output_type": "stream",
     "text": [
      "* \n",
      "* * \n",
      "* * * \n",
      "* * * * \n",
      "* * * * * \n",
      "* * * * * * \n"
     ]
    }
   ],
   "source": [
    "# Lower Triangulat Pyramid\n",
    "rows = int(input(\"Enter number of rows: \"))\n",
    "for i in range(1, rows+1):\n",
    "        print(\"* \" * i)"
   ]
  },
  {
   "cell_type": "markdown",
   "id": "3ab93759",
   "metadata": {},
   "source": [
    "# Upper Triangular Pyramid"
   ]
  },
  {
   "cell_type": "code",
   "execution_count": 2,
   "id": "880a8a38",
   "metadata": {},
   "outputs": [
    {
     "name": "stdout",
     "output_type": "stream",
     "text": [
      "* * * * * * \n",
      "  * * * * * \n",
      "    * * * * \n",
      "      * * * \n",
      "        * * \n",
      "          * \n"
     ]
    }
   ],
   "source": [
    "# Upper Triangular Pyramid\n",
    "for i in range(rows):\n",
    "    print(\"  \" * i + \"* \" * (rows - i))"
   ]
  },
  {
   "cell_type": "markdown",
   "id": "3065b87b",
   "metadata": {},
   "source": [
    "# Pyramid"
   ]
  },
  {
   "cell_type": "code",
   "execution_count": 3,
   "id": "4420d675",
   "metadata": {},
   "outputs": [
    {
     "name": "stdout",
     "output_type": "stream",
     "text": [
      "     * \n",
      "    * * \n",
      "   * * * \n",
      "  * * * * \n",
      " * * * * * \n",
      "* * * * * * \n"
     ]
    }
   ],
   "source": [
    "#Pyramid\n",
    "for i in range(1, rows + 1):\n",
    "    print(\" \" * (rows - i) + \"* \" * i)"
   ]
  }
 ],
 "metadata": {
  "kernelspec": {
   "display_name": "base",
   "language": "python",
   "name": "python3"
  },
  "language_info": {
   "codemirror_mode": {
    "name": "ipython",
    "version": 3
   },
   "file_extension": ".py",
   "mimetype": "text/x-python",
   "name": "python",
   "nbconvert_exporter": "python",
   "pygments_lexer": "ipython3",
   "version": "3.11.7"
  }
 },
 "nbformat": 4,
 "nbformat_minor": 5
}
